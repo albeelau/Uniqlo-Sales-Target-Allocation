{
 "cells": [
  {
   "cell_type": "code",
   "execution_count": 4,
   "metadata": {},
   "outputs": [
    {
     "name": "stdout",
     "output_type": "stream",
     "text": [
      "       Store ID      City Sales Channel  Gender Age Group Purchase Time  \\\n",
      "0           658  shenzhen         store  Female     25-29     2021/6/23   \n",
      "1           146  hangzhou         store  Female     25-29      2021/9/2   \n",
      "2            70  shenzhen         store    Male      >=60    2021/10/18   \n",
      "3           658  shenzhen         store  Female     25-29     2021/2/21   \n",
      "4           229  shenzhen         store    Male     20-24     2021/1/11   \n",
      "...         ...       ...           ...     ...       ...           ...   \n",
      "22288       146  hangzhou         store  Female     30-34     2021/7/28   \n",
      "22289       430   chengdu         store  Female     25-29    2021/10/17   \n",
      "22290       449     wuhan         store  Female     35-39     2021/10/3   \n",
      "22291       758  hangzhou         store  Female     20-24     2021/9/14   \n",
      "22292       616   chengdu         store    Male     30-34      2021/8/4   \n",
      "\n",
      "      Product Category  Customer Count  Sales Amount  Order Count  \\\n",
      "0        Seasonal_Item               4         796.0            4   \n",
      "1                Sport               1         149.0            1   \n",
      "2               Tshirt               2         178.0            2   \n",
      "3               Tshirt               1          59.0            1   \n",
      "4                Socks               2          65.0            2   \n",
      "...                ...             ...           ...          ...   \n",
      "22288            Pants               1          80.0            1   \n",
      "22289           Tshirt               1          79.0            1   \n",
      "22290           Tshirt               1         158.0            1   \n",
      "22291            Socks               1          26.0            1   \n",
      "22292    Seasonal_Item               1          79.0            1   \n",
      "\n",
      "       Purchase Count  Product Cost  Unit Price  \n",
      "0                   4            59         199  \n",
      "1                   1            49         149  \n",
      "2                   2            49          89  \n",
      "3                   1            49          59  \n",
      "4                   3             9          22  \n",
      "...               ...           ...         ...  \n",
      "22288               2            19          40  \n",
      "22289               1            49          79  \n",
      "22290               2            49          79  \n",
      "22291               1             9          26  \n",
      "22292               1            59          79  \n",
      "\n",
      "[22293 rows x 13 columns]\n"
     ]
    }
   ],
   "source": [
    "import pandas as pd\n",
    "import numpy as np\n",
    "import matplotlib.pyplot as plt\n",
    "\n",
    "df = pd.read_csv('output_file.csv')\n",
    "print(df)"
   ]
  },
  {
   "cell_type": "code",
   "execution_count": 5,
   "metadata": {},
   "outputs": [
    {
     "name": "stdout",
     "output_type": "stream",
     "text": [
      "<class 'pandas.core.frame.DataFrame'>\n",
      "RangeIndex: 22293 entries, 0 to 22292\n",
      "Data columns (total 13 columns):\n",
      " #   Column            Non-Null Count  Dtype  \n",
      "---  ------            --------------  -----  \n",
      " 0   Store ID          22293 non-null  int64  \n",
      " 1   City              22293 non-null  object \n",
      " 2   Sales Channel     22293 non-null  object \n",
      " 3   Gender            22293 non-null  object \n",
      " 4   Age Group         22293 non-null  object \n",
      " 5   Purchase Time     22293 non-null  object \n",
      " 6   Product Category  22293 non-null  object \n",
      " 7   Customer Count    22293 non-null  int64  \n",
      " 8   Sales Amount      22293 non-null  float64\n",
      " 9   Order Count       22293 non-null  int64  \n",
      " 10  Purchase Count    22293 non-null  int64  \n",
      " 11  Product Cost      22293 non-null  int64  \n",
      " 12  Unit Price        22293 non-null  int64  \n",
      "dtypes: float64(1), int64(6), object(6)\n",
      "memory usage: 2.2+ MB\n"
     ]
    }
   ],
   "source": [
    "df.info()\n"
   ]
  },
  {
   "cell_type": "code",
   "execution_count": 6,
   "metadata": {},
   "outputs": [
    {
     "data": {
      "text/html": [
       "<div>\n",
       "<style scoped>\n",
       "    .dataframe tbody tr th:only-of-type {\n",
       "        vertical-align: middle;\n",
       "    }\n",
       "\n",
       "    .dataframe tbody tr th {\n",
       "        vertical-align: top;\n",
       "    }\n",
       "\n",
       "    .dataframe thead th {\n",
       "        text-align: right;\n",
       "    }\n",
       "</style>\n",
       "<table border=\"1\" class=\"dataframe\">\n",
       "  <thead>\n",
       "    <tr style=\"text-align: right;\">\n",
       "      <th></th>\n",
       "      <th>Store ID</th>\n",
       "      <th>Customer Count</th>\n",
       "      <th>Sales Amount</th>\n",
       "      <th>Order Count</th>\n",
       "      <th>Purchase Count</th>\n",
       "      <th>Product Cost</th>\n",
       "      <th>Unit Price</th>\n",
       "    </tr>\n",
       "  </thead>\n",
       "  <tbody>\n",
       "    <tr>\n",
       "      <th>count</th>\n",
       "      <td>22293.000000</td>\n",
       "      <td>22293.000000</td>\n",
       "      <td>22293.000000</td>\n",
       "      <td>22293.000000</td>\n",
       "      <td>22293.000000</td>\n",
       "      <td>22293.000000</td>\n",
       "      <td>22293.000000</td>\n",
       "    </tr>\n",
       "    <tr>\n",
       "      <th>mean</th>\n",
       "      <td>335.391558</td>\n",
       "      <td>1.629480</td>\n",
       "      <td>159.531371</td>\n",
       "      <td>1.651998</td>\n",
       "      <td>1.858072</td>\n",
       "      <td>46.124658</td>\n",
       "      <td>84.279998</td>\n",
       "    </tr>\n",
       "    <tr>\n",
       "      <th>std</th>\n",
       "      <td>230.236167</td>\n",
       "      <td>1.785605</td>\n",
       "      <td>276.254066</td>\n",
       "      <td>1.861480</td>\n",
       "      <td>2.347301</td>\n",
       "      <td>19.124347</td>\n",
       "      <td>46.314296</td>\n",
       "    </tr>\n",
       "    <tr>\n",
       "      <th>min</th>\n",
       "      <td>19.000000</td>\n",
       "      <td>1.000000</td>\n",
       "      <td>-0.660000</td>\n",
       "      <td>1.000000</td>\n",
       "      <td>1.000000</td>\n",
       "      <td>9.000000</td>\n",
       "      <td>0.000000</td>\n",
       "    </tr>\n",
       "    <tr>\n",
       "      <th>25%</th>\n",
       "      <td>142.000000</td>\n",
       "      <td>1.000000</td>\n",
       "      <td>64.000000</td>\n",
       "      <td>1.000000</td>\n",
       "      <td>1.000000</td>\n",
       "      <td>49.000000</td>\n",
       "      <td>56.000000</td>\n",
       "    </tr>\n",
       "    <tr>\n",
       "      <th>50%</th>\n",
       "      <td>315.000000</td>\n",
       "      <td>1.000000</td>\n",
       "      <td>99.000000</td>\n",
       "      <td>1.000000</td>\n",
       "      <td>1.000000</td>\n",
       "      <td>49.000000</td>\n",
       "      <td>79.000000</td>\n",
       "    </tr>\n",
       "    <tr>\n",
       "      <th>75%</th>\n",
       "      <td>480.000000</td>\n",
       "      <td>2.000000</td>\n",
       "      <td>175.000000</td>\n",
       "      <td>2.000000</td>\n",
       "      <td>2.000000</td>\n",
       "      <td>49.000000</td>\n",
       "      <td>99.000000</td>\n",
       "    </tr>\n",
       "    <tr>\n",
       "      <th>max</th>\n",
       "      <td>831.000000</td>\n",
       "      <td>58.000000</td>\n",
       "      <td>12538.000000</td>\n",
       "      <td>65.000000</td>\n",
       "      <td>84.000000</td>\n",
       "      <td>99.000000</td>\n",
       "      <td>299.000000</td>\n",
       "    </tr>\n",
       "  </tbody>\n",
       "</table>\n",
       "</div>"
      ],
      "text/plain": [
       "           Store ID  Customer Count  Sales Amount   Order Count  \\\n",
       "count  22293.000000    22293.000000  22293.000000  22293.000000   \n",
       "mean     335.391558        1.629480    159.531371      1.651998   \n",
       "std      230.236167        1.785605    276.254066      1.861480   \n",
       "min       19.000000        1.000000     -0.660000      1.000000   \n",
       "25%      142.000000        1.000000     64.000000      1.000000   \n",
       "50%      315.000000        1.000000     99.000000      1.000000   \n",
       "75%      480.000000        2.000000    175.000000      2.000000   \n",
       "max      831.000000       58.000000  12538.000000     65.000000   \n",
       "\n",
       "       Purchase Count  Product Cost    Unit Price  \n",
       "count    22293.000000  22293.000000  22293.000000  \n",
       "mean         1.858072     46.124658     84.279998  \n",
       "std          2.347301     19.124347     46.314296  \n",
       "min          1.000000      9.000000      0.000000  \n",
       "25%          1.000000     49.000000     56.000000  \n",
       "50%          1.000000     49.000000     79.000000  \n",
       "75%          2.000000     49.000000     99.000000  \n",
       "max         84.000000     99.000000    299.000000  "
      ]
     },
     "execution_count": 6,
     "metadata": {},
     "output_type": "execute_result"
    }
   ],
   "source": [
    "df.describe()"
   ]
  },
  {
   "cell_type": "code",
   "execution_count": 7,
   "metadata": {},
   "outputs": [
    {
     "data": {
      "text/html": [
       "<div>\n",
       "<style scoped>\n",
       "    .dataframe tbody tr th:only-of-type {\n",
       "        vertical-align: middle;\n",
       "    }\n",
       "\n",
       "    .dataframe tbody tr th {\n",
       "        vertical-align: top;\n",
       "    }\n",
       "\n",
       "    .dataframe thead th {\n",
       "        text-align: right;\n",
       "    }\n",
       "</style>\n",
       "<table border=\"1\" class=\"dataframe\">\n",
       "  <thead>\n",
       "    <tr style=\"text-align: right;\">\n",
       "      <th></th>\n",
       "      <th>Store ID</th>\n",
       "      <th>Customer Count</th>\n",
       "      <th>Sales Amount</th>\n",
       "      <th>Order Count</th>\n",
       "      <th>Purchase Count</th>\n",
       "      <th>Product Cost</th>\n",
       "      <th>Unit Price</th>\n",
       "    </tr>\n",
       "  </thead>\n",
       "  <tbody>\n",
       "    <tr>\n",
       "      <th>count</th>\n",
       "      <td>22262.000000</td>\n",
       "      <td>22262.000000</td>\n",
       "      <td>22262.000000</td>\n",
       "      <td>22262.000000</td>\n",
       "      <td>22262.000000</td>\n",
       "      <td>22262.000000</td>\n",
       "      <td>22262.000000</td>\n",
       "    </tr>\n",
       "    <tr>\n",
       "      <th>mean</th>\n",
       "      <td>335.486614</td>\n",
       "      <td>1.630357</td>\n",
       "      <td>159.753549</td>\n",
       "      <td>1.652906</td>\n",
       "      <td>1.859222</td>\n",
       "      <td>46.127841</td>\n",
       "      <td>84.397359</td>\n",
       "    </tr>\n",
       "    <tr>\n",
       "      <th>std</th>\n",
       "      <td>230.371454</td>\n",
       "      <td>1.786694</td>\n",
       "      <td>276.382135</td>\n",
       "      <td>1.862617</td>\n",
       "      <td>2.348723</td>\n",
       "      <td>19.120825</td>\n",
       "      <td>46.239547</td>\n",
       "    </tr>\n",
       "    <tr>\n",
       "      <th>min</th>\n",
       "      <td>19.000000</td>\n",
       "      <td>1.000000</td>\n",
       "      <td>10.000000</td>\n",
       "      <td>1.000000</td>\n",
       "      <td>1.000000</td>\n",
       "      <td>9.000000</td>\n",
       "      <td>10.000000</td>\n",
       "    </tr>\n",
       "    <tr>\n",
       "      <th>25%</th>\n",
       "      <td>142.000000</td>\n",
       "      <td>1.000000</td>\n",
       "      <td>66.000000</td>\n",
       "      <td>1.000000</td>\n",
       "      <td>1.000000</td>\n",
       "      <td>49.000000</td>\n",
       "      <td>56.000000</td>\n",
       "    </tr>\n",
       "    <tr>\n",
       "      <th>50%</th>\n",
       "      <td>315.000000</td>\n",
       "      <td>1.000000</td>\n",
       "      <td>99.000000</td>\n",
       "      <td>1.000000</td>\n",
       "      <td>1.000000</td>\n",
       "      <td>49.000000</td>\n",
       "      <td>79.000000</td>\n",
       "    </tr>\n",
       "    <tr>\n",
       "      <th>75%</th>\n",
       "      <td>480.000000</td>\n",
       "      <td>2.000000</td>\n",
       "      <td>175.000000</td>\n",
       "      <td>2.000000</td>\n",
       "      <td>2.000000</td>\n",
       "      <td>49.000000</td>\n",
       "      <td>99.000000</td>\n",
       "    </tr>\n",
       "    <tr>\n",
       "      <th>max</th>\n",
       "      <td>831.000000</td>\n",
       "      <td>58.000000</td>\n",
       "      <td>12538.000000</td>\n",
       "      <td>65.000000</td>\n",
       "      <td>84.000000</td>\n",
       "      <td>99.000000</td>\n",
       "      <td>299.000000</td>\n",
       "    </tr>\n",
       "  </tbody>\n",
       "</table>\n",
       "</div>"
      ],
      "text/plain": [
       "           Store ID  Customer Count  Sales Amount   Order Count  \\\n",
       "count  22262.000000    22262.000000  22262.000000  22262.000000   \n",
       "mean     335.486614        1.630357    159.753549      1.652906   \n",
       "std      230.371454        1.786694    276.382135      1.862617   \n",
       "min       19.000000        1.000000     10.000000      1.000000   \n",
       "25%      142.000000        1.000000     66.000000      1.000000   \n",
       "50%      315.000000        1.000000     99.000000      1.000000   \n",
       "75%      480.000000        2.000000    175.000000      2.000000   \n",
       "max      831.000000       58.000000  12538.000000     65.000000   \n",
       "\n",
       "       Purchase Count  Product Cost    Unit Price  \n",
       "count    22262.000000  22262.000000  22262.000000  \n",
       "mean         1.859222     46.127841     84.397359  \n",
       "std          2.348723     19.120825     46.239547  \n",
       "min          1.000000      9.000000     10.000000  \n",
       "25%          1.000000     49.000000     56.000000  \n",
       "50%          1.000000     49.000000     79.000000  \n",
       "75%          2.000000     49.000000     99.000000  \n",
       "max         84.000000     99.000000    299.000000  "
      ]
     },
     "execution_count": 7,
     "metadata": {},
     "output_type": "execute_result"
    }
   ],
   "source": [
    "# Sales amount should not negative: -0.660000,remove the outliner and store the correct data.\n",
    "df=df[df['Sales Amount']>0]\n",
    "df.describe()"
   ]
  },
  {
   "cell_type": "code",
   "execution_count": 8,
   "metadata": {},
   "outputs": [
    {
     "data": {
      "text/html": [
       "<div>\n",
       "<style scoped>\n",
       "    .dataframe tbody tr th:only-of-type {\n",
       "        vertical-align: middle;\n",
       "    }\n",
       "\n",
       "    .dataframe tbody tr th {\n",
       "        vertical-align: top;\n",
       "    }\n",
       "\n",
       "    .dataframe thead th {\n",
       "        text-align: right;\n",
       "    }\n",
       "</style>\n",
       "<table border=\"1\" class=\"dataframe\">\n",
       "  <thead>\n",
       "    <tr style=\"text-align: right;\">\n",
       "      <th></th>\n",
       "      <th>City</th>\n",
       "      <th>Sales Channel</th>\n",
       "      <th>Gender</th>\n",
       "      <th>Age Group</th>\n",
       "      <th>Purchase Time</th>\n",
       "      <th>Product Category</th>\n",
       "    </tr>\n",
       "  </thead>\n",
       "  <tbody>\n",
       "    <tr>\n",
       "      <th>count</th>\n",
       "      <td>22262</td>\n",
       "      <td>22262</td>\n",
       "      <td>22262</td>\n",
       "      <td>22262</td>\n",
       "      <td>22262</td>\n",
       "      <td>22262</td>\n",
       "    </tr>\n",
       "    <tr>\n",
       "      <th>unique</th>\n",
       "      <td>10</td>\n",
       "      <td>2</td>\n",
       "      <td>3</td>\n",
       "      <td>11</td>\n",
       "      <td>303</td>\n",
       "      <td>9</td>\n",
       "    </tr>\n",
       "    <tr>\n",
       "      <th>top</th>\n",
       "      <td>shenzhen</td>\n",
       "      <td>store</td>\n",
       "      <td>Female</td>\n",
       "      <td>30-34</td>\n",
       "      <td>2021/9/16</td>\n",
       "      <td>Tshirt</td>\n",
       "    </tr>\n",
       "    <tr>\n",
       "      <th>freq</th>\n",
       "      <td>4364</td>\n",
       "      <td>18373</td>\n",
       "      <td>14186</td>\n",
       "      <td>4423</td>\n",
       "      <td>101</td>\n",
       "      <td>10598</td>\n",
       "    </tr>\n",
       "  </tbody>\n",
       "</table>\n",
       "</div>"
      ],
      "text/plain": [
       "            City Sales Channel  Gender Age Group Purchase Time  \\\n",
       "count      22262         22262   22262     22262         22262   \n",
       "unique        10             2       3        11           303   \n",
       "top     shenzhen         store  Female     30-34     2021/9/16   \n",
       "freq        4364         18373   14186      4423           101   \n",
       "\n",
       "       Product Category  \n",
       "count             22262  \n",
       "unique                9  \n",
       "top              Tshirt  \n",
       "freq              10598  "
      ]
     },
     "execution_count": 8,
     "metadata": {},
     "output_type": "execute_result"
    }
   ],
   "source": [
    "# Data type description analysis\n",
    "df.select_dtypes('object').describe()"
   ]
  },
  {
   "cell_type": "code",
   "execution_count": 9,
   "metadata": {},
   "outputs": [
    {
     "name": "stdout",
     "output_type": "stream",
     "text": [
      "City ['shenzhen' 'hangzhou' 'wuhan' 'beijing' 'chongqing' 'xian' 'guangzhou'\n",
      " 'nanjing' 'shanghai' 'chengdu']\n",
      "Sales Channel ['store' 'online']\n",
      "Gender ['Female' 'Male' 'Unkown']\n",
      "Age Group ['25-29' '>=60' '20-24' '35-39' '30-34' '45-49' '50-54' '40-44' 'Unkown'\n",
      " '55-59' '<20']\n",
      "Purchase Time ['2021/6/23' '2021/9/2' '2021/10/18' '2021/2/21' '2021/1/11' '2021/8/6'\n",
      " '2021/3/6' '2021/7/28' '2021/4/11' '2021/8/14' '2021/1/31' '2021/3/18'\n",
      " '2021/2/9' '2021/2/12' '2021/4/5' '2021/10/2' '2021/8/18' '2021/2/25'\n",
      " '2021/3/1' '2021/1/22' '2021/8/31' '2021/10/29' '2021/1/2' '2021/3/27'\n",
      " '2021/10/5' '2021/6/18' '2021/3/5' '2021/9/24' '2021/9/11' '2021/3/14'\n",
      " '2021/9/25' '2021/6/8' '2021/5/30' '2021/7/7' '2021/5/6' '2021/1/30'\n",
      " '2021/8/2' '2021/3/28' '2021/4/29' '2021/3/26' '2021/7/10' '2021/8/3'\n",
      " '2021/8/25' '2021/6/20' '2021/10/3' '2021/8/29' '2021/3/30' '2021/2/8'\n",
      " '2021/3/15' '2021/3/10' '2021/3/25' '2021/8/5' '2021/10/6' '2021/8/17'\n",
      " '2021/1/24' '2021/4/7' '2021/3/4' '2021/2/13' '2021/4/2' '2021/10/27'\n",
      " '2021/3/31' '2021/6/30' '2021/8/16' '2021/8/11' '2021/6/6' '2021/1/25'\n",
      " '2021/10/26' '2021/1/8' '2021/7/31' '2021/3/16' '2021/4/27' '2021/8/28'\n",
      " '2021/2/27' '2021/4/6' '2021/3/21' '2021/9/13' '2021/2/2' '2021/7/5'\n",
      " '2021/10/1' '2021/1/9' '2021/7/23' '2021/4/16' '2021/9/26' '2021/1/10'\n",
      " '2021/8/30' '2021/9/5' '2021/8/21' '2021/10/15' '2021/7/20' '2021/3/24'\n",
      " '2021/8/23' '2021/2/4' '2021/4/4' '2021/9/14' '2021/8/10' '2021/7/24'\n",
      " '2021/2/19' '2021/9/29' '2021/1/6' '2021/2/16' '2021/1/19' '2021/7/3'\n",
      " '2021/7/6' '2021/5/25' '2021/5/1' '2021/1/4' '2021/7/19' '2021/7/17'\n",
      " '2021/10/10' '2021/1/7' '2021/5/14' '2021/10/20' '2021/8/1' '2021/6/9'\n",
      " '2021/4/3' '2021/5/31' '2021/6/2' '2021/2/5' '2021/1/3' '2021/3/22'\n",
      " '2021/2/10' '2021/2/18' '2021/9/1' '2021/2/24' '2021/10/16' '2021/4/18'\n",
      " '2021/9/9' '2021/10/4' '2021/9/6' '2021/7/22' '2021/7/25' '2021/10/13'\n",
      " '2021/5/29' '2021/6/29' '2021/10/8' '2021/5/3' '2021/7/21' '2021/5/5'\n",
      " '2021/2/17' '2021/7/26' '2021/4/20' '2021/7/29' '2021/6/15' '2021/4/25'\n",
      " '2021/2/7' '2021/4/23' '2021/1/1' '2021/3/17' '2021/4/24' '2021/2/6'\n",
      " '2021/9/19' '2021/7/9' '2021/1/21' '2021/8/22' '2021/3/8' '2021/6/27'\n",
      " '2021/6/28' '2021/3/23' '2021/4/12' '2021/6/4' '2021/2/14' '2021/7/4'\n",
      " '2021/1/27' '2021/7/8' '2021/8/26' '2021/6/1' '2021/6/14' '2021/5/7'\n",
      " '2021/4/10' '2021/1/28' '2021/5/24' '2021/5/2' '2021/5/17' '2021/9/15'\n",
      " '2021/3/3' '2021/9/8' '2021/10/7' '2021/7/1' '2021/9/20' '2021/5/28'\n",
      " '2021/7/18' '2021/2/23' '2021/7/11' '2021/8/24' '2021/1/14' '2021/4/26'\n",
      " '2021/5/12' '2021/8/13' '2021/6/17' '2021/7/13' '2021/1/12' '2021/2/11'\n",
      " '2021/1/15' '2021/7/14' '2021/2/1' '2021/5/18' '2021/1/23' '2021/10/25'\n",
      " '2021/10/14' '2021/4/28' '2021/9/28' '2021/5/27' '2021/4/30' '2021/9/17'\n",
      " '2021/7/27' '2021/3/2' '2021/9/7' '2021/5/26' '2021/8/7' '2021/9/27'\n",
      " '2021/5/11' '2021/6/19' '2021/8/9' '2021/5/13' '2021/8/20' '2021/5/16'\n",
      " '2021/2/3' '2021/10/9' '2021/4/9' '2021/8/15' '2021/5/9' '2021/10/24'\n",
      " '2021/2/28' '2021/6/12' '2021/9/22' '2021/2/26' '2021/5/23' '2021/6/25'\n",
      " '2021/2/15' '2021/1/5' '2021/10/17' '2021/6/11' '2021/9/16' '2021/9/10'\n",
      " '2021/8/8' '2021/8/4' '2021/7/15' '2021/1/20' '2021/4/21' '2021/5/4'\n",
      " '2021/9/12' '2021/1/16' '2021/4/17' '2021/10/12' '2021/10/30' '2021/4/8'\n",
      " '2021/7/30' '2021/3/9' '2021/10/22' '2021/5/21' '2021/1/26' '2021/9/21'\n",
      " '2021/10/28' '2021/10/23' '2021/6/13' '2021/3/20' '2021/3/12' '2021/6/16'\n",
      " '2021/5/8' '2021/10/11' '2021/6/5' '2021/6/10' '2021/5/20' '2021/1/13'\n",
      " '2021/9/23' '2021/5/22' '2021/7/12' '2021/7/2' '2021/9/30' '2021/7/16'\n",
      " '2021/5/19' '2021/9/4' '2021/6/3' '2021/6/22' '2021/8/19' '2021/4/1'\n",
      " '2021/5/10' '2021/2/20' '2021/5/15' '2021/3/19' '2021/4/14' '2021/10/19'\n",
      " '2021/1/29' '2021/10/21' '2021/6/24' '2021/6/21' '2021/8/27' '2021/1/18'\n",
      " '2021/3/7' '2021/1/17' '2021/4/19' '2021/4/22' '2021/3/13' '2021/9/3'\n",
      " '2021/2/22' '2021/9/18' '2021/8/12' '2021/3/11' '2021/6/7' '2021/6/26'\n",
      " '2021/3/29' '2021/4/15' '2021/4/13']\n",
      "Product Category ['Seasonal_Item' 'Sport' 'Tshirt' 'Socks' 'Pants' 'Jeans' 'Sweater'\n",
      " 'Accessory' 'Skrit']\n"
     ]
    }
   ],
   "source": [
    "for i in df.select_dtypes('object'):\n",
    "    print(i,df[i].unique())"
   ]
  },
  {
   "cell_type": "markdown",
   "metadata": {},
   "source": [
    "\n",
    "a. Data cleaning\n",
    "-The Unkown part of gender is filled in as the mode of gender\n",
    "-The Unkown part of the age group is filled in as the mode\n"
   ]
  },
  {
   "cell_type": "code",
   "execution_count": 10,
   "metadata": {},
   "outputs": [
    {
     "data": {
      "text/plain": [
       "0    Female\n",
       "Name: Gender, dtype: object"
      ]
     },
     "execution_count": 10,
     "metadata": {},
     "output_type": "execute_result"
    }
   ],
   "source": [
    "df['Gender'].mode()"
   ]
  },
  {
   "cell_type": "code",
   "execution_count": 11,
   "metadata": {},
   "outputs": [],
   "source": [
    "df['Gender'][df['Gender']=='Unkown']='Female'"
   ]
  },
  {
   "cell_type": "code",
   "execution_count": 12,
   "metadata": {},
   "outputs": [
    {
     "data": {
      "text/plain": [
       "0    30-34\n",
       "Name: Age Group, dtype: object"
      ]
     },
     "execution_count": 12,
     "metadata": {},
     "output_type": "execute_result"
    }
   ],
   "source": [
    "df['Age Group'].mode()"
   ]
  },
  {
   "cell_type": "code",
   "execution_count": 13,
   "metadata": {},
   "outputs": [],
   "source": [
    "df.loc[df['Age Group']=='Unkown','Age Group']='30-34'"
   ]
  },
  {
   "cell_type": "code",
   "execution_count": 14,
   "metadata": {},
   "outputs": [
    {
     "data": {
      "text/plain": [
       "array(['25-29', '>=60', '20-24', '35-39', '30-34', '45-49', '50-54',\n",
       "       '40-44', '55-59', '<20'], dtype=object)"
      ]
     },
     "execution_count": 14,
     "metadata": {},
     "output_type": "execute_result"
    }
   ],
   "source": [
    "df['Age Group'].unique()"
   ]
  },
  {
   "cell_type": "markdown",
   "metadata": {},
   "source": [
    "\n",
    "b. Descriptive analysis: numerical detailed analysis\n",
    "\n",
    "1. Analyze the range of single unit cost\n",
    "2. Cost analysis of different products, which product has the highest cost and which has the lowest cost\n",
    "3. Analyze the selling price of a single product and what range it is in\n",
    "4. Analyze the profit situation of different products, which product is more profitable and which one is selling at a loss"
   ]
  },
  {
   "cell_type": "code",
   "execution_count": 15,
   "metadata": {},
   "outputs": [
    {
     "name": "stdout",
     "output_type": "stream",
     "text": [
      "City ['shenzhen' 'hangzhou' 'wuhan' 'beijing' 'chongqing' 'xian' 'guangzhou'\n",
      " 'nanjing' 'shanghai' 'chengdu']\n",
      "Sales Channel ['store' 'online']\n",
      "Gender ['Female' 'Male']\n",
      "Age Group ['25-29' '>=60' '20-24' '35-39' '30-34' '45-49' '50-54' '40-44' '55-59'\n",
      " '<20']\n",
      "Purchase Time ['2021/6/23' '2021/9/2' '2021/10/18' '2021/2/21' '2021/1/11' '2021/8/6'\n",
      " '2021/3/6' '2021/7/28' '2021/4/11' '2021/8/14' '2021/1/31' '2021/3/18'\n",
      " '2021/2/9' '2021/2/12' '2021/4/5' '2021/10/2' '2021/8/18' '2021/2/25'\n",
      " '2021/3/1' '2021/1/22' '2021/8/31' '2021/10/29' '2021/1/2' '2021/3/27'\n",
      " '2021/10/5' '2021/6/18' '2021/3/5' '2021/9/24' '2021/9/11' '2021/3/14'\n",
      " '2021/9/25' '2021/6/8' '2021/5/30' '2021/7/7' '2021/5/6' '2021/1/30'\n",
      " '2021/8/2' '2021/3/28' '2021/4/29' '2021/3/26' '2021/7/10' '2021/8/3'\n",
      " '2021/8/25' '2021/6/20' '2021/10/3' '2021/8/29' '2021/3/30' '2021/2/8'\n",
      " '2021/3/15' '2021/3/10' '2021/3/25' '2021/8/5' '2021/10/6' '2021/8/17'\n",
      " '2021/1/24' '2021/4/7' '2021/3/4' '2021/2/13' '2021/4/2' '2021/10/27'\n",
      " '2021/3/31' '2021/6/30' '2021/8/16' '2021/8/11' '2021/6/6' '2021/1/25'\n",
      " '2021/10/26' '2021/1/8' '2021/7/31' '2021/3/16' '2021/4/27' '2021/8/28'\n",
      " '2021/2/27' '2021/4/6' '2021/3/21' '2021/9/13' '2021/2/2' '2021/7/5'\n",
      " '2021/10/1' '2021/1/9' '2021/7/23' '2021/4/16' '2021/9/26' '2021/1/10'\n",
      " '2021/8/30' '2021/9/5' '2021/8/21' '2021/10/15' '2021/7/20' '2021/3/24'\n",
      " '2021/8/23' '2021/2/4' '2021/4/4' '2021/9/14' '2021/8/10' '2021/7/24'\n",
      " '2021/2/19' '2021/9/29' '2021/1/6' '2021/2/16' '2021/1/19' '2021/7/3'\n",
      " '2021/7/6' '2021/5/25' '2021/5/1' '2021/1/4' '2021/7/19' '2021/7/17'\n",
      " '2021/10/10' '2021/1/7' '2021/5/14' '2021/10/20' '2021/8/1' '2021/6/9'\n",
      " '2021/4/3' '2021/5/31' '2021/6/2' '2021/2/5' '2021/1/3' '2021/3/22'\n",
      " '2021/2/10' '2021/2/18' '2021/9/1' '2021/2/24' '2021/10/16' '2021/4/18'\n",
      " '2021/9/9' '2021/10/4' '2021/9/6' '2021/7/22' '2021/7/25' '2021/10/13'\n",
      " '2021/5/29' '2021/6/29' '2021/10/8' '2021/5/3' '2021/7/21' '2021/5/5'\n",
      " '2021/2/17' '2021/7/26' '2021/4/20' '2021/7/29' '2021/6/15' '2021/4/25'\n",
      " '2021/2/7' '2021/4/23' '2021/1/1' '2021/3/17' '2021/4/24' '2021/2/6'\n",
      " '2021/9/19' '2021/7/9' '2021/1/21' '2021/8/22' '2021/3/8' '2021/6/27'\n",
      " '2021/6/28' '2021/3/23' '2021/4/12' '2021/6/4' '2021/2/14' '2021/7/4'\n",
      " '2021/1/27' '2021/7/8' '2021/8/26' '2021/6/1' '2021/6/14' '2021/5/7'\n",
      " '2021/4/10' '2021/1/28' '2021/5/24' '2021/5/2' '2021/5/17' '2021/9/15'\n",
      " '2021/3/3' '2021/9/8' '2021/10/7' '2021/7/1' '2021/9/20' '2021/5/28'\n",
      " '2021/7/18' '2021/2/23' '2021/7/11' '2021/8/24' '2021/1/14' '2021/4/26'\n",
      " '2021/5/12' '2021/8/13' '2021/6/17' '2021/7/13' '2021/1/12' '2021/2/11'\n",
      " '2021/1/15' '2021/7/14' '2021/2/1' '2021/5/18' '2021/1/23' '2021/10/25'\n",
      " '2021/10/14' '2021/4/28' '2021/9/28' '2021/5/27' '2021/4/30' '2021/9/17'\n",
      " '2021/7/27' '2021/3/2' '2021/9/7' '2021/5/26' '2021/8/7' '2021/9/27'\n",
      " '2021/5/11' '2021/6/19' '2021/8/9' '2021/5/13' '2021/8/20' '2021/5/16'\n",
      " '2021/2/3' '2021/10/9' '2021/4/9' '2021/8/15' '2021/5/9' '2021/10/24'\n",
      " '2021/2/28' '2021/6/12' '2021/9/22' '2021/2/26' '2021/5/23' '2021/6/25'\n",
      " '2021/2/15' '2021/1/5' '2021/10/17' '2021/6/11' '2021/9/16' '2021/9/10'\n",
      " '2021/8/8' '2021/8/4' '2021/7/15' '2021/1/20' '2021/4/21' '2021/5/4'\n",
      " '2021/9/12' '2021/1/16' '2021/4/17' '2021/10/12' '2021/10/30' '2021/4/8'\n",
      " '2021/7/30' '2021/3/9' '2021/10/22' '2021/5/21' '2021/1/26' '2021/9/21'\n",
      " '2021/10/28' '2021/10/23' '2021/6/13' '2021/3/20' '2021/3/12' '2021/6/16'\n",
      " '2021/5/8' '2021/10/11' '2021/6/5' '2021/6/10' '2021/5/20' '2021/1/13'\n",
      " '2021/9/23' '2021/5/22' '2021/7/12' '2021/7/2' '2021/9/30' '2021/7/16'\n",
      " '2021/5/19' '2021/9/4' '2021/6/3' '2021/6/22' '2021/8/19' '2021/4/1'\n",
      " '2021/5/10' '2021/2/20' '2021/5/15' '2021/3/19' '2021/4/14' '2021/10/19'\n",
      " '2021/1/29' '2021/10/21' '2021/6/24' '2021/6/21' '2021/8/27' '2021/1/18'\n",
      " '2021/3/7' '2021/1/17' '2021/4/19' '2021/4/22' '2021/3/13' '2021/9/3'\n",
      " '2021/2/22' '2021/9/18' '2021/8/12' '2021/3/11' '2021/6/7' '2021/6/26'\n",
      " '2021/3/29' '2021/4/15' '2021/4/13']\n",
      "Product Category ['Seasonal_Item' 'Sport' 'Tshirt' 'Socks' 'Pants' 'Jeans' 'Sweater'\n",
      " 'Accessory' 'Skrit']\n"
     ]
    }
   ],
   "source": [
    "# Remove the unknow values and fill in as the mode\n",
    "\n",
    "for i in df.select_dtypes('object'):\n",
    "    print(i,df[i].unique())"
   ]
  },
  {
   "cell_type": "code",
   "execution_count": 16,
   "metadata": {},
   "outputs": [
    {
     "data": {
      "text/plain": [
       "<Axes: ylabel='Product Cost'>"
      ]
     },
     "execution_count": 16,
     "metadata": {},
     "output_type": "execute_result"
    },
    {
     "data": {
      "image/png": "[encoded data removed]",
      "text/plain": [
       "<Figure size 640x480 with 1 Axes>"
      ]
     },
     "metadata": {},
     "output_type": "display_data"
    }
   ],
   "source": [
    "# 1.Analyze the range of the overall single piece cost\n",
    "df['Product Cost'].value_counts().plot(kind='barh')"
   ]
  },
  {
   "cell_type": "code",
   "execution_count": 17,
   "metadata": {},
   "outputs": [
    {
     "data": {
      "text/plain": [
       "Product Category\n",
       "Accessory        29.0\n",
       "Jeans            69.0\n",
       "Pants            19.0\n",
       "Seasonal_Item    59.0\n",
       "Skrit            59.0\n",
       "Socks             9.0\n",
       "Sport            49.0\n",
       "Sweater          99.0\n",
       "Tshirt           49.0\n",
       "Name: Product Cost, dtype: float64"
      ]
     },
     "execution_count": 17,
     "metadata": {},
     "output_type": "execute_result"
    }
   ],
   "source": [
    "# 2.Cost analysis of different products, which product has the highest cost and which has the lowest cost\n",
    "df['Product Category'].unique()\n",
    "\n",
    "df[df['Product Category']=='Seasonal_Item']['Product Cost'].mean()\n",
    "\n",
    "\n",
    "df.groupby('Product Category')['Product Cost'].mean()"
   ]
  },
  {
   "cell_type": "code",
   "execution_count": 18,
   "metadata": {},
   "outputs": [
    {
     "data": {
      "text/plain": [
       "<Axes: ylabel='Density'>"
      ]
     },
     "execution_count": 18,
     "metadata": {},
     "output_type": "execute_result"
    },
    {
     "data": {
      "image/png": "[encoded data removed]",
      "text/plain": [
       "<Figure size 640x480 with 1 Axes>"
      ]
     },
     "metadata": {},
     "output_type": "display_data"
    }
   ],
   "source": [
    "# 3.Analyze the selling price of a single product and within what range\n",
    "df['Unit Price'].plot(kind='kde')\n"
   ]
  },
  {
   "cell_type": "code",
   "execution_count": 19,
   "metadata": {},
   "outputs": [
    {
     "data": {
      "text/html": [
       "<div>\n",
       "<style scoped>\n",
       "    .dataframe tbody tr th:only-of-type {\n",
       "        vertical-align: middle;\n",
       "    }\n",
       "\n",
       "    .dataframe tbody tr th {\n",
       "        vertical-align: top;\n",
       "    }\n",
       "\n",
       "    .dataframe thead th {\n",
       "        text-align: right;\n",
       "    }\n",
       "</style>\n",
       "<table border=\"1\" class=\"dataframe\">\n",
       "  <thead>\n",
       "    <tr style=\"text-align: right;\">\n",
       "      <th></th>\n",
       "      <th>count</th>\n",
       "      <th>mean</th>\n",
       "      <th>std</th>\n",
       "      <th>min</th>\n",
       "      <th>25%</th>\n",
       "      <th>50%</th>\n",
       "      <th>75%</th>\n",
       "      <th>max</th>\n",
       "    </tr>\n",
       "    <tr>\n",
       "      <th>Product Category</th>\n",
       "      <th></th>\n",
       "      <th></th>\n",
       "      <th></th>\n",
       "      <th></th>\n",
       "      <th></th>\n",
       "      <th></th>\n",
       "      <th></th>\n",
       "      <th></th>\n",
       "    </tr>\n",
       "  </thead>\n",
       "  <tbody>\n",
       "    <tr>\n",
       "      <th>Accessory</th>\n",
       "      <td>1571.0</td>\n",
       "      <td>79.713558</td>\n",
       "      <td>51.420578</td>\n",
       "      <td>0.0</td>\n",
       "      <td>50.0</td>\n",
       "      <td>69.0</td>\n",
       "      <td>120.0</td>\n",
       "      <td>270.0</td>\n",
       "    </tr>\n",
       "    <tr>\n",
       "      <th>Jeans</th>\n",
       "      <td>1410.0</td>\n",
       "      <td>21.946099</td>\n",
       "      <td>60.357075</td>\n",
       "      <td>-56.0</td>\n",
       "      <td>-30.0</td>\n",
       "      <td>-10.0</td>\n",
       "      <td>80.0</td>\n",
       "      <td>130.0</td>\n",
       "    </tr>\n",
       "    <tr>\n",
       "      <th>Pants</th>\n",
       "      <td>1691.0</td>\n",
       "      <td>19.594323</td>\n",
       "      <td>8.538521</td>\n",
       "      <td>-9.0</td>\n",
       "      <td>14.0</td>\n",
       "      <td>20.0</td>\n",
       "      <td>21.0</td>\n",
       "      <td>60.0</td>\n",
       "    </tr>\n",
       "    <tr>\n",
       "      <th>Seasonal_Item</th>\n",
       "      <td>2534.0</td>\n",
       "      <td>36.782952</td>\n",
       "      <td>48.643001</td>\n",
       "      <td>-46.0</td>\n",
       "      <td>-1.0</td>\n",
       "      <td>20.0</td>\n",
       "      <td>80.0</td>\n",
       "      <td>140.0</td>\n",
       "    </tr>\n",
       "    <tr>\n",
       "      <th>Skrit</th>\n",
       "      <td>629.0</td>\n",
       "      <td>79.961844</td>\n",
       "      <td>50.560664</td>\n",
       "      <td>-49.0</td>\n",
       "      <td>32.0</td>\n",
       "      <td>90.0</td>\n",
       "      <td>140.0</td>\n",
       "      <td>140.0</td>\n",
       "    </tr>\n",
       "    <tr>\n",
       "      <th>Socks</th>\n",
       "      <td>2048.0</td>\n",
       "      <td>30.787598</td>\n",
       "      <td>23.383578</td>\n",
       "      <td>1.0</td>\n",
       "      <td>13.0</td>\n",
       "      <td>18.0</td>\n",
       "      <td>50.0</td>\n",
       "      <td>70.0</td>\n",
       "    </tr>\n",
       "    <tr>\n",
       "      <th>Sport</th>\n",
       "      <td>975.0</td>\n",
       "      <td>19.302564</td>\n",
       "      <td>46.240929</td>\n",
       "      <td>-31.0</td>\n",
       "      <td>-11.0</td>\n",
       "      <td>-10.0</td>\n",
       "      <td>50.0</td>\n",
       "      <td>200.0</td>\n",
       "    </tr>\n",
       "    <tr>\n",
       "      <th>Sweater</th>\n",
       "      <td>806.0</td>\n",
       "      <td>81.599256</td>\n",
       "      <td>50.425686</td>\n",
       "      <td>-86.0</td>\n",
       "      <td>50.0</td>\n",
       "      <td>100.0</td>\n",
       "      <td>100.0</td>\n",
       "      <td>150.0</td>\n",
       "    </tr>\n",
       "    <tr>\n",
       "      <th>Tshirt</th>\n",
       "      <td>10598.0</td>\n",
       "      <td>35.053972</td>\n",
       "      <td>25.358055</td>\n",
       "      <td>-35.0</td>\n",
       "      <td>27.0</td>\n",
       "      <td>30.0</td>\n",
       "      <td>50.0</td>\n",
       "      <td>200.0</td>\n",
       "    </tr>\n",
       "  </tbody>\n",
       "</table>\n",
       "</div>"
      ],
      "text/plain": [
       "                    count       mean        std   min   25%    50%    75%  \\\n",
       "Product Category                                                            \n",
       "Accessory          1571.0  79.713558  51.420578   0.0  50.0   69.0  120.0   \n",
       "Jeans              1410.0  21.946099  60.357075 -56.0 -30.0  -10.0   80.0   \n",
       "Pants              1691.0  19.594323   8.538521  -9.0  14.0   20.0   21.0   \n",
       "Seasonal_Item      2534.0  36.782952  48.643001 -46.0  -1.0   20.0   80.0   \n",
       "Skrit               629.0  79.961844  50.560664 -49.0  32.0   90.0  140.0   \n",
       "Socks              2048.0  30.787598  23.383578   1.0  13.0   18.0   50.0   \n",
       "Sport               975.0  19.302564  46.240929 -31.0 -11.0  -10.0   50.0   \n",
       "Sweater             806.0  81.599256  50.425686 -86.0  50.0  100.0  100.0   \n",
       "Tshirt            10598.0  35.053972  25.358055 -35.0  27.0   30.0   50.0   \n",
       "\n",
       "                    max  \n",
       "Product Category         \n",
       "Accessory         270.0  \n",
       "Jeans             130.0  \n",
       "Pants              60.0  \n",
       "Seasonal_Item     140.0  \n",
       "Skrit             140.0  \n",
       "Socks              70.0  \n",
       "Sport             200.0  \n",
       "Sweater           150.0  \n",
       "Tshirt            200.0  "
      ]
     },
     "execution_count": 19,
     "metadata": {},
     "output_type": "execute_result"
    }
   ],
   "source": [
    "# 4. Analyze the profit situation of different products, which product is more profitable and which one is selling at a loss\n",
    "df['Profit']=df['Unit Price']-df['Product Cost']\n",
    "\n",
    "df.groupby('Product Category')['Profit'].describe()\n",
    "\n"
   ]
  },
  {
   "cell_type": "markdown",
   "metadata": {},
   "source": [
    "c. Categorical data analysis\n",
    "\n",
    "1.which city has the highest turnover?\n",
    "\n",
    "2.How many sales channels are there? What are the main channels? Which city is doing well in online business?\n",
    "\n",
    "3.Which is the best-selling product(with the highest turnover)\n",
    "\n",
    "4.User analysis (finding Uniqlo’s main consumer groups)\n",
    "\n",
    "5.Analyze the change trend of monthly sales amount "
   ]
  },
  {
   "cell_type": "code",
   "execution_count": 20,
   "metadata": {},
   "outputs": [
    {
     "data": {
      "text/plain": [
       "array(['shenzhen', 'hangzhou', 'wuhan', 'beijing', 'chongqing', 'xian',\n",
       "       'guangzhou', 'nanjing', 'shanghai', 'chengdu'], dtype=object)"
      ]
     },
     "execution_count": 20,
     "metadata": {},
     "output_type": "execute_result"
    }
   ],
   "source": [
    "#1.Which cities are there and which city has the highest turnover.\n",
    "df['City'].unique()\n",
    "\n"
   ]
  },
  {
   "cell_type": "code",
   "execution_count": 21,
   "metadata": {},
   "outputs": [
    {
     "data": {
      "text/plain": [
       "City\n",
       "shenzhen     733123.68\n",
       "wuhan        589778.44\n",
       "hangzhou     589518.49\n",
       "shanghai     389821.73\n",
       "guangzhou    318124.49\n",
       "chongqing    263492.65\n",
       "xian         210774.62\n",
       "chengdu      208189.86\n",
       "beijing      130458.62\n",
       "nanjing      123150.93\n",
       "Name: Sales Amount, dtype: float64"
      ]
     },
     "execution_count": 21,
     "metadata": {},
     "output_type": "execute_result"
    }
   ],
   "source": [
    "df.groupby('City')['Sales Amount'].sum().sort_values(ascending=False)"
   ]
  },
  {
   "cell_type": "code",
   "execution_count": 22,
   "metadata": {},
   "outputs": [
    {
     "data": {
      "text/plain": [
       "array(['store', 'online'], dtype=object)"
      ]
     },
     "execution_count": 22,
     "metadata": {},
     "output_type": "execute_result"
    }
   ],
   "source": [
    "#2.How many sales channels are there? What are the main channels? Which city is doing well in online business?\n",
    "df['Sales Channel'].unique()"
   ]
  },
  {
   "cell_type": "code",
   "execution_count": 23,
   "metadata": {},
   "outputs": [
    {
     "data": {
      "text/plain": [
       "Sales Channel\n",
       "store     18373\n",
       "online     3889\n",
       "Name: count, dtype: int64"
      ]
     },
     "execution_count": 23,
     "metadata": {},
     "output_type": "execute_result"
    }
   ],
   "source": [
    "df['Sales Channel'].value_counts()"
   ]
  },
  {
   "cell_type": "code",
   "execution_count": 24,
   "metadata": {},
   "outputs": [
    {
     "name": "stdout",
     "output_type": "stream",
     "text": [
      "Axes(0.125,0.11;0.775x0.77)\n"
     ]
    },
    {
     "data": {
      "image/png": "[encoded data removed]",
      "text/plain": [
       "<Figure size 640x480 with 1 Axes>"
      ]
     },
     "metadata": {},
     "output_type": "display_data"
    }
   ],
   "source": [
    "cross_tab = pd.crosstab(index=df['City'], columns=df['Sales Channel']).plot(kind='barh')\n",
    "\n",
    "print(cross_tab)"
   ]
  },
  {
   "cell_type": "code",
   "execution_count": 25,
   "metadata": {},
   "outputs": [
    {
     "data": {
      "text/plain": [
       "<Axes: ylabel='Product Category'>"
      ]
     },
     "execution_count": 25,
     "metadata": {},
     "output_type": "execute_result"
    },
    {
     "data": {
      "image/png": "[encoded data removed]",
      "text/plain": [
       "<Figure size 640x480 with 1 Axes>"
      ]
     },
     "metadata": {},
     "output_type": "display_data"
    }
   ],
   "source": [
    "# 3.Which is the best-selling product\n",
    "df.groupby('Product Category')['Purchase Count'].sum().sort_values(ascending=False).plot(kind='barh')"
   ]
  },
  {
   "cell_type": "code",
   "execution_count": 26,
   "metadata": {},
   "outputs": [
    {
     "data": {
      "text/plain": [
       "Product Category\n",
       "Tshirt           1538744.84\n",
       "Seasonal_Item     590664.88\n",
       "Accessory         444685.15\n",
       "Jeans             246127.48\n",
       "Sweater           245630.80\n",
       "Skrit             137302.78\n",
       "Socks             127731.36\n",
       "Sport             118060.34\n",
       "Pants             107485.88\n",
       "Name: Sales Amount, dtype: float64"
      ]
     },
     "execution_count": 26,
     "metadata": {},
     "output_type": "execute_result"
    }
   ],
   "source": [
    "df.groupby('Product Category')['Sales Amount'].sum().sort_values(ascending=False)"
   ]
  },
  {
   "cell_type": "code",
   "execution_count": 27,
   "metadata": {},
   "outputs": [
    {
     "data": {
      "text/plain": [
       "<Axes: ylabel='Age Group'>"
      ]
     },
     "execution_count": 27,
     "metadata": {},
     "output_type": "execute_result"
    },
    {
     "data": {
      "image/png": "[encoded data removed]",
      "text/plain": [
       "<Figure size 640x480 with 1 Axes>"
      ]
     },
     "metadata": {},
     "output_type": "display_data"
    }
   ],
   "source": [
    " # 4. User analysis, Uniqlo’s main consumer groups: 20-40岁\n",
    "df['Age Group'].value_counts().plot(kind='barh')"
   ]
  },
  {
   "cell_type": "code",
   "execution_count": 28,
   "metadata": {},
   "outputs": [
    {
     "data": {
      "text/plain": [
       "<Axes: xlabel='Gender'>"
      ]
     },
     "execution_count": 28,
     "metadata": {},
     "output_type": "execute_result"
    },
    {
     "data": {
      "image/png": "[encoded data removed]",
      "text/plain": [
       "<Figure size 640x480 with 1 Axes>"
      ]
     },
     "metadata": {},
     "output_type": "display_data"
    }
   ],
   "source": [
    "df['Gender'].value_counts().plot(kind='bar')"
   ]
  },
  {
   "cell_type": "code",
   "execution_count": 29,
   "metadata": {},
   "outputs": [],
   "source": [
    "# 5.Analyze the change trend of monthly sales amount for recent year\n",
    "\n",
    "# Transfer to a proper date type\n",
    "df['Purchase Time']=pd.to_datetime(df['Purchase Time'])"
   ]
  },
  {
   "cell_type": "code",
   "execution_count": 30,
   "metadata": {},
   "outputs": [
    {
     "data": {
      "text/plain": [
       "<Axes: xlabel='Month'>"
      ]
     },
     "execution_count": 30,
     "metadata": {},
     "output_type": "execute_result"
    },
    {
     "data": {
      "image/png": "[encoded data removed]",
      "text/plain": [
       "<Figure size 640x480 with 1 Axes>"
      ]
     },
     "metadata": {},
     "output_type": "display_data"
    }
   ],
   "source": [
    "df['Month']=df['Purchase Time'].dt.month\n",
    "df\n",
    "\n",
    "df.groupby('Month')['Sales Amount'].sum().plot()"
   ]
  },
  {
   "cell_type": "markdown",
   "metadata": {},
   "source": [
    "d. After analyzing the trend, make a sales goal for every store.\n",
    "\n",
    "1.Define an overall goal for November, which should be improved by 20% based on October.\n",
    "2.The target amount for each city is derived based on its sales contribution rate.\n",
    "3.Perdict the target sales amount of each store based on the sales contribution rate of each store.\n",
    "\n",
    "-Sales contribution rate: total sales in each city from January to October / total sales\n",
    "-Sales contribution rate of each store: Total sales of each store from January to October/total sales of the city "
   ]
  },
  {
   "cell_type": "code",
   "execution_count": 31,
   "metadata": {},
   "outputs": [
    {
     "name": "stdout",
     "output_type": "stream",
     "text": [
      "333094.43000000005\n"
     ]
    }
   ],
   "source": [
    "# Total sales amount at October\n",
    "sale_Oct=df['Sales Amount'][df.Month==10].sum()\n",
    "print(sale_Oct)"
   ]
  },
  {
   "cell_type": "code",
   "execution_count": 32,
   "metadata": {},
   "outputs": [
    {
     "name": "stdout",
     "output_type": "stream",
     "text": [
      "399713.31600000005\n"
     ]
    }
   ],
   "source": [
    "# Target sales amount at December\n",
    "target_Dec=sale_Oct*1.2\n",
    "print(target_Dec)"
   ]
  },
  {
   "cell_type": "code",
   "execution_count": 33,
   "metadata": {},
   "outputs": [
    {
     "name": "stdout",
     "output_type": "stream",
     "text": [
      "City\n",
      "beijing      0.036682\n",
      "chengdu      0.058539\n",
      "chongqing    0.074089\n",
      "guangzhou    0.089450\n",
      "hangzhou     0.165761\n",
      "nanjing      0.034628\n",
      "shanghai     0.109610\n",
      "shenzhen     0.206140\n",
      "wuhan        0.165834\n",
      "xian         0.059266\n",
      "Name: Sales Amount, dtype: float64\n"
     ]
    }
   ],
   "source": [
    "# Sales contribution rate by cities\n",
    "Sales_contribution_rate_by_cities = df.groupby('City')['Sales Amount'].sum()/df['Sales Amount'].sum()\n",
    "print(Sales_contribution_rate_by_cities)"
   ]
  },
  {
   "cell_type": "code",
   "execution_count": 34,
   "metadata": {},
   "outputs": [
    {
     "name": "stdout",
     "output_type": "stream",
     "text": [
      "City\n",
      "beijing      14662.455366\n",
      "chengdu      23398.795187\n",
      "chongqing    29614.365228\n",
      "guangzhou    35754.526112\n",
      "hangzhou     66256.936849\n",
      "nanjing      13841.132264\n",
      "shanghai     43812.694912\n",
      "shenzhen     82396.956487\n",
      "wuhan        66286.153050\n",
      "xian         23689.300546\n",
      "Name: Sales Amount, dtype: float64\n"
     ]
    }
   ],
   "source": [
    "# Target sales amount for each city in November\n",
    "city_tar=target_Dec*Sales_contribution_rate_by_cities\n",
    "print(city_tar)"
   ]
  },
  {
   "cell_type": "code",
   "execution_count": 35,
   "metadata": {},
   "outputs": [
    {
     "name": "stdout",
     "output_type": "stream",
     "text": [
      "       City  Store ID  Sales Amount\n",
      "0   beijing        21     130458.62\n",
      "1   chengdu        98      41145.35\n",
      "2   chengdu       360      48392.83\n",
      "3   chengdu       430      34697.97\n",
      "4   chengdu       605      37449.81\n",
      "..      ...       ...           ...\n",
      "59     xian       336      37082.68\n",
      "60     xian       429      36368.15\n",
      "61     xian       442      37276.34\n",
      "62     xian       648      36732.90\n",
      "63     xian       802      33226.54\n",
      "\n",
      "[64 rows x 3 columns]\n"
     ]
    }
   ],
   "source": [
    "# Total sales for each city\n",
    "total_sales_by_city=df.groupby(by=['City',\n",
    "              'Store ID'],\n",
    "          as_index=False)['Sales Amount'].sum()\n",
    "print(total_sales_by_city)"
   ]
  },
  {
   "cell_type": "code",
   "execution_count": 36,
   "metadata": {},
   "outputs": [
    {
     "name": "stdout",
     "output_type": "stream",
     "text": [
      "        City  Sales Amount\n",
      "0    beijing     130458.62\n",
      "1    chengdu     208189.86\n",
      "2  chongqing     263492.65\n",
      "3  guangzhou     318124.49\n",
      "4   hangzhou     589518.49\n",
      "5    nanjing     123150.93\n",
      "6   shanghai     389821.73\n",
      "7   shenzhen     733123.68\n",
      "8      wuhan     589778.44\n",
      "9       xian     210774.62\n"
     ]
    }
   ],
   "source": [
    "(city_sales)=df.groupby('City'\n",
    "           ,as_index=False)['Sales Amount'].sum()\n",
    "print(city_sales)"
   ]
  },
  {
   "cell_type": "code",
   "execution_count": 37,
   "metadata": {},
   "outputs": [
    {
     "name": "stdout",
     "output_type": "stream",
     "text": [
      "0     1.000000\n",
      "1     0.197634\n",
      "2     0.232446\n",
      "3     0.166665\n",
      "4     0.179883\n",
      "        ...   \n",
      "59    0.175935\n",
      "60    0.172545\n",
      "61    0.176854\n",
      "62    0.174276\n",
      "63    0.157640\n",
      "Name: Sales_contribution_rate_by_stores, Length: 64, dtype: float64\n"
     ]
    }
   ],
   "source": [
    "\n",
    "# Sales_contribution_rate_by_stores\n",
    "total_sales_by_city['Sales_contribution_rate_by_stores']=total_sales_by_city.apply(lambda x:x[2]/(city_sales['Sales Amount'][x[0]==city_sales['City']]).sum()\n",
    "                                   ,axis=1)\n",
    "print(total_sales_by_city['Sales_contribution_rate_by_stores'])\n"
   ]
  },
  {
   "cell_type": "code",
   "execution_count": 38,
   "metadata": {},
   "outputs": [],
   "source": [
    "#shanghai as an example\n",
    "#print(total_sales_by_city[total_sales_by_city['City']=='shanghai']['Sales_contribution_rate_by_stores'].sum())"
   ]
  },
  {
   "cell_type": "code",
   "execution_count": 39,
   "metadata": {},
   "outputs": [
    {
     "name": "stdout",
     "output_type": "stream",
     "text": [
      "       City  Store ID  Sales Amount  Sales_contribution_rate_by_stores\n",
      "0   beijing        21     130458.62                           1.000000\n",
      "1   chengdu        98      41145.35                           0.197634\n",
      "2   chengdu       360      48392.83                           0.232446\n",
      "3   chengdu       430      34697.97                           0.166665\n",
      "4   chengdu       605      37449.81                           0.179883\n",
      "..      ...       ...           ...                                ...\n",
      "59     xian       336      37082.68                           0.175935\n",
      "60     xian       429      36368.15                           0.172545\n",
      "61     xian       442      37276.34                           0.176854\n",
      "62     xian       648      36732.90                           0.174276\n",
      "63     xian       802      33226.54                           0.157640\n",
      "\n",
      "[64 rows x 4 columns]\n"
     ]
    }
   ],
   "source": [
    "print(total_sales_by_city)"
   ]
  },
  {
   "cell_type": "markdown",
   "metadata": {},
   "source": [
    "Summary the results:"
   ]
  },
  {
   "cell_type": "code",
   "execution_count": 40,
   "metadata": {},
   "outputs": [
    {
     "name": "stdout",
     "output_type": "stream",
     "text": [
      "City\n",
      "beijing      14662.455366\n",
      "chengdu      23398.795187\n",
      "chongqing    29614.365228\n",
      "guangzhou    35754.526112\n",
      "hangzhou     66256.936849\n",
      "nanjing      13841.132264\n",
      "shanghai     43812.694912\n",
      "shenzhen     82396.956487\n",
      "wuhan        66286.153050\n",
      "xian         23689.300546\n",
      "Name: Sales Amount, dtype: float64\n"
     ]
    }
   ],
   "source": [
    "# 1.Get the target sales of each city in November\n",
    "print(city_tar)"
   ]
  },
  {
   "cell_type": "code",
   "execution_count": 41,
   "metadata": {},
   "outputs": [
    {
     "data": {
      "text/plain": [
       "43812.69491163824"
      ]
     },
     "execution_count": 41,
     "metadata": {},
     "output_type": "execute_result"
    }
   ],
   "source": [
    "# 2.Get the target sales of each store in November\n",
    "total_sales_by_city['target_sales_each_store_Nov']=total_sales_by_city.apply(lambda x:x[3]*city_tar.values[x[0]==city_tar.index].sum(),\n",
    "               axis=1)\n",
    "\n",
    "total_sales_by_city[total_sales_by_city['City']=='shanghai']['target_sales_each_store_Nov'].sum()"
   ]
  },
  {
   "cell_type": "code",
   "execution_count": 42,
   "metadata": {},
   "outputs": [
    {
     "name": "stdout",
     "output_type": "stream",
     "text": [
      "        City  Store ID Product Category  Purchase Count  Unit Price\n",
      "0    beijing        21        Accessory             138  124.604651\n",
      "1    beijing        21            Jeans              46   91.280000\n",
      "2    beijing        21            Pants              87   37.600000\n",
      "3    beijing        21    Seasonal_Item             188   95.452055\n",
      "4    beijing        21            Skrit              27  123.642857\n",
      "..       ...       ...              ...             ...         ...\n",
      "571     xian       802            Skrit               6  162.333333\n",
      "572     xian       802            Socks              26   36.800000\n",
      "573     xian       802            Sport               8   42.666667\n",
      "574     xian       802          Sweater              13  160.636364\n",
      "575     xian       802           Tshirt             216   83.819549\n",
      "\n",
      "[576 rows x 5 columns]\n"
     ]
    }
   ],
   "source": [
    "# 3.The best-selling product in each store\n",
    "group_purchases=df.groupby(by=['City',\n",
    "              'Store ID',\n",
    "              'Product Category'],\n",
    "          as_index=False).agg({'Purchase Count':'sum',\n",
    "                              'Unit Price':'mean'})\n",
    "print(group_purchases)"
   ]
  },
  {
   "cell_type": "code",
   "execution_count": 47,
   "metadata": {},
   "outputs": [
    {
     "name": "stdout",
     "output_type": "stream",
     "text": [
      "        City  Store ID Product Category  Purchase Count  Unit Price  Rank\n",
      "0    beijing        21        Accessory             138  124.604651   3.0\n",
      "1    beijing        21            Jeans              46   91.280000   6.0\n",
      "2    beijing        21            Pants              87   37.600000   5.0\n",
      "3    beijing        21    Seasonal_Item             188   95.452055   2.0\n",
      "4    beijing        21            Skrit              27  123.642857   9.0\n",
      "..       ...       ...              ...             ...         ...   ...\n",
      "571     xian       802            Skrit               6  162.333333   9.0\n",
      "572     xian       802            Socks              26   36.800000   4.0\n",
      "573     xian       802            Sport               8   42.666667   8.0\n",
      "574     xian       802          Sweater              13  160.636364   6.0\n",
      "575     xian       802           Tshirt             216   83.819549   1.0\n",
      "\n",
      "[576 rows x 6 columns]\n"
     ]
    }
   ],
   "source": [
    "group_purchases['Rank']=group_purchases.groupby(by=['City','Store ID'])['Purchase Count'].rank(method='first',ascending=False)\n",
    "print(group_purchases)"
   ]
  },
  {
   "cell_type": "code",
   "execution_count": 49,
   "metadata": {},
   "outputs": [
    {
     "name": "stdout",
     "output_type": "stream",
     "text": [
      "        City  Store ID Product Category  Purchase Count  Unit Price  Rank\n",
      "8    beijing        21           Tshirt             800   86.772109   1.0\n",
      "17   chengdu        98           Tshirt             248   86.472727   1.0\n",
      "26   chengdu       360           Tshirt             245   80.062500   1.0\n",
      "35   chengdu       430           Tshirt             211   84.007634   1.0\n",
      "44   chengdu       605           Tshirt             195   84.953846   1.0\n",
      "..       ...       ...              ...             ...         ...   ...\n",
      "539     xian       336           Tshirt             162   80.495238   1.0\n",
      "548     xian       429           Tshirt             216   81.701389   1.0\n",
      "557     xian       442           Tshirt             199   86.864286   1.0\n",
      "566     xian       648           Tshirt             226   80.883562   1.0\n",
      "575     xian       802           Tshirt             216   83.819549   1.0\n",
      "\n",
      "[64 rows x 6 columns]\n"
     ]
    }
   ],
   "source": [
    "best_selling=group_purchases[group_purchases['Rank']==1]\n",
    "print(best_selling)"
   ]
  },
  {
   "cell_type": "code",
   "execution_count": 51,
   "metadata": {},
   "outputs": [
    {
     "data": {
      "text/plain": [
       "City\n",
       "beijing      86.772109\n",
       "chengdu      83.946496\n",
       "chongqing    83.933438\n",
       "guangzhou    84.083385\n",
       "hangzhou     82.461725\n",
       "nanjing      83.730612\n",
       "shanghai     83.359268\n",
       "shenzhen     84.716542\n",
       "wuhan        85.495393\n",
       "xian         84.134828\n",
       "Name: Unit Price, dtype: float64"
      ]
     },
     "execution_count": 51,
     "metadata": {},
     "output_type": "execute_result"
    }
   ],
   "source": [
    "best_selling.groupby('City')['Unit Price'].mean()"
   ]
  }
 ],
 "metadata": {
  "kernelspec": {
   "display_name": "Python 3",
   "language": "python",
   "name": "python3"
  },
  "language_info": {
   "codemirror_mode": {
    "name": "ipython",
    "version": 3
   },
   "file_extension": ".py",
   "mimetype": "text/x-python",
   "name": "python",
   "nbconvert_exporter": "python",
   "pygments_lexer": "ipython3",
   "version": "3.8.6"
  },
  "orig_nbformat": 4
 },
 "nbformat": 4,
 "nbformat_minor": 2
}
